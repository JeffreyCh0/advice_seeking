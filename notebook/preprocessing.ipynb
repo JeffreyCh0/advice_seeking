{
 "cells": [
  {
   "cell_type": "code",
   "execution_count": 22,
   "metadata": {},
   "outputs": [],
   "source": [
    "import json\n",
    "import pandas as pd"
   ]
  },
  {
   "cell_type": "code",
   "execution_count": 2,
   "metadata": {},
   "outputs": [
    {
     "data": {
      "application/vnd.jupyter.widget-view+json": {
       "model_id": "e54bf68c80204c82b3e86fb747af019c",
       "version_major": 2,
       "version_minor": 0
      },
      "text/plain": [
       "README.md:   0%|          | 0.00/571 [00:00<?, ?B/s]"
      ]
     },
     "metadata": {},
     "output_type": "display_data"
    },
    {
     "data": {
      "application/vnd.jupyter.widget-view+json": {
       "model_id": "b6c27540361e4d6fbffc48bc927c334e",
       "version_major": 2,
       "version_minor": 0
      },
      "text/plain": [
       "(…)-00000-of-00005-a1278ede4e8c5cdb.parquet:   0%|          | 0.00/306M [00:00<?, ?B/s]"
      ]
     },
     "metadata": {},
     "output_type": "display_data"
    },
    {
     "data": {
      "application/vnd.jupyter.widget-view+json": {
       "model_id": "38e8838291544f79a33c0bea846465fa",
       "version_major": 2,
       "version_minor": 0
      },
      "text/plain": [
       "(…)-00001-of-00005-1fc2da944397e9c2.parquet:   0%|          | 0.00/303M [00:00<?, ?B/s]"
      ]
     },
     "metadata": {},
     "output_type": "display_data"
    },
    {
     "data": {
      "application/vnd.jupyter.widget-view+json": {
       "model_id": "6736d935542f4861bae671e505cfb075",
       "version_major": 2,
       "version_minor": 0
      },
      "text/plain": [
       "(…)-00002-of-00005-68ced004a1458143.parquet:   0%|          | 0.00/300M [00:00<?, ?B/s]"
      ]
     },
     "metadata": {},
     "output_type": "display_data"
    },
    {
     "data": {
      "application/vnd.jupyter.widget-view+json": {
       "model_id": "8d0c776fd05d426e936b46656279af8b",
       "version_major": 2,
       "version_minor": 0
      },
      "text/plain": [
       "(…)-00003-of-00005-1dae36b67c12169f.parquet:   0%|          | 0.00/292M [00:00<?, ?B/s]"
      ]
     },
     "metadata": {},
     "output_type": "display_data"
    },
    {
     "data": {
      "application/vnd.jupyter.widget-view+json": {
       "model_id": "0d08bc33baa4423c8dfe6bba71fd55d1",
       "version_major": 2,
       "version_minor": 0
      },
      "text/plain": [
       "(…)-00004-of-00005-c374cc9fbda9fda7.parquet:   0%|          | 0.00/299M [00:00<?, ?B/s]"
      ]
     },
     "metadata": {},
     "output_type": "display_data"
    },
    {
     "data": {
      "application/vnd.jupyter.widget-view+json": {
       "model_id": "db00798ccf694d408d234a545d8448f1",
       "version_major": 2,
       "version_minor": 0
      },
      "text/plain": [
       "Generating train split:   0%|          | 0/1006218 [00:00<?, ? examples/s]"
      ]
     },
     "metadata": {},
     "output_type": "display_data"
    }
   ],
   "source": [
    "from datasets import load_dataset\n",
    "\n",
    "ds = load_dataset(\"wangrui6/Zhihu-KOL\")\n"
   ]
  },
  {
   "cell_type": "code",
   "execution_count": 20,
   "metadata": {},
   "outputs": [],
   "source": [
    "data_dict = {}\n",
    "data_dict['question'] = ds['train']['INSTRUCTION']\n",
    "data_dict['answer'] = ds['train']['RESPONSE']\n",
    "for key in json.loads(ds['train']['METADATA'][0]).keys():\n",
    "    data_dict[key] = [json.loads(x)[key] for x in ds['train']['METADATA']]"
   ]
  },
  {
   "cell_type": "code",
   "execution_count": 23,
   "metadata": {},
   "outputs": [
    {
     "data": {
      "text/html": [
       "<div>\n",
       "<style scoped>\n",
       "    .dataframe tbody tr th:only-of-type {\n",
       "        vertical-align: middle;\n",
       "    }\n",
       "\n",
       "    .dataframe tbody tr th {\n",
       "        vertical-align: top;\n",
       "    }\n",
       "\n",
       "    .dataframe thead th {\n",
       "        text-align: right;\n",
       "    }\n",
       "</style>\n",
       "<table border=\"1\" class=\"dataframe\">\n",
       "  <thead>\n",
       "    <tr style=\"text-align: right;\">\n",
       "      <th></th>\n",
       "      <th>question</th>\n",
       "      <th>answer</th>\n",
       "      <th>question_id</th>\n",
       "      <th>answer_id</th>\n",
       "      <th>url</th>\n",
       "      <th>upvotes</th>\n",
       "      <th>answer_creation_time</th>\n",
       "    </tr>\n",
       "  </thead>\n",
       "  <tbody>\n",
       "    <tr>\n",
       "      <th>0</th>\n",
       "      <td>怎么说服男朋友买烤箱？</td>\n",
       "      <td>emmmmm，首先想说的是，我买厨房用品一般是不用「说服」的，只是在厨房堆的满满当当的情况下...</td>\n",
       "      <td>357137111.0</td>\n",
       "      <td>9.143328e+08</td>\n",
       "      <td>https://www.zhihu.com/question/357137111/answe...</td>\n",
       "      <td>赞同 15</td>\n",
       "      <td>2019-11-28T12:01:22.000Z</td>\n",
       "    </tr>\n",
       "    <tr>\n",
       "      <th>1</th>\n",
       "      <td>航天从业者是如何看待电视剧《你是我的荣耀》的？</td>\n",
       "      <td>难得有个关于航天的剧，职场情节悬不悬浮，航天设定和细节走不走心？带着放大镜看了前18集，...</td>\n",
       "      <td>475169837.0</td>\n",
       "      <td>2.053313e+09</td>\n",
       "      <td>https://www.zhihu.com/question/475169837/answe...</td>\n",
       "      <td>赞同 4432</td>\n",
       "      <td>2021-08-11T07:26:08.000Z</td>\n",
       "    </tr>\n",
       "    <tr>\n",
       "      <th>2</th>\n",
       "      <td>如何看待PayPal正式进入中国？</td>\n",
       "      <td>PayPal不仅是美国支付巨头，也是国际支付巨头，目前已开拓全球200多个市场，美国以外的市...</td>\n",
       "      <td>348551037.0</td>\n",
       "      <td>8.661034e+08</td>\n",
       "      <td>https://www.zhihu.com/question/348551037/answe...</td>\n",
       "      <td>赞同 127</td>\n",
       "      <td>2019-10-22T09:11:15.000Z</td>\n",
       "    </tr>\n",
       "    <tr>\n",
       "      <th>3</th>\n",
       "      <td>中金公司交易员月薪八万五是如何做到的？</td>\n",
       "      <td>1、首先，考虑到这位交易员的工作经验，月薪八万五的表述是不正确的：其实是一年的全部薪酬除以1...</td>\n",
       "      <td>545938899.0</td>\n",
       "      <td>2.602364e+09</td>\n",
       "      <td>https://www.zhihu.com/question/545938899/answe...</td>\n",
       "      <td>赞同 450</td>\n",
       "      <td>2022-07-31T13:29:04.000Z</td>\n",
       "    </tr>\n",
       "    <tr>\n",
       "      <th>4</th>\n",
       "      <td>摇滚乐（金属）给你们带来了什么？</td>\n",
       "      <td>ㄟ( ▔, ▔ )ㄏ哪里带来了什么东西啊，除了找到热爱的东西，也失去了很多。听重型现场像疯子...</td>\n",
       "      <td>361437216.0</td>\n",
       "      <td>1.073541e+09</td>\n",
       "      <td>https://www.zhihu.com/question/361437216/answe...</td>\n",
       "      <td>赞同 5</td>\n",
       "      <td>2020-03-12T05:49:28.000Z</td>\n",
       "    </tr>\n",
       "    <tr>\n",
       "      <th>...</th>\n",
       "      <td>...</td>\n",
       "      <td>...</td>\n",
       "      <td>...</td>\n",
       "      <td>...</td>\n",
       "      <td>...</td>\n",
       "      <td>...</td>\n",
       "      <td>...</td>\n",
       "    </tr>\n",
       "    <tr>\n",
       "      <th>1006213</th>\n",
       "      <td>费列罗里到底有没有蛆？</td>\n",
       "      <td>新鲜出炉的，别人送一盒半年了，一直放柜子没管。今天整理出来一看，盒子里面好几条肉乎乎的虫子。...</td>\n",
       "      <td>28449568.0</td>\n",
       "      <td>8.800690e+08</td>\n",
       "      <td>https://www.zhihu.com/question/28449568/answer...</td>\n",
       "      <td>赞同 36</td>\n",
       "      <td>2019-11-03T05:24:13.000Z</td>\n",
       "    </tr>\n",
       "    <tr>\n",
       "      <th>1006214</th>\n",
       "      <td>如果让你来决定宝可梦的游戏（正统作或外传）内容，你会想做成怎样？</td>\n",
       "      <td>做成真女神转生-like 游戏模式为奇妙之旅那种drpg 剧情分成c、l、n三条线</td>\n",
       "      <td>317215832.0</td>\n",
       "      <td>1.836233e+09</td>\n",
       "      <td>https://www.zhihu.com/question/317215832/answe...</td>\n",
       "      <td>赞同</td>\n",
       "      <td>2021-04-15T03:30:59.000Z</td>\n",
       "    </tr>\n",
       "    <tr>\n",
       "      <th>1006215</th>\n",
       "      <td>怎么复制Excel表格到印象笔记Evernote?</td>\n",
       "      <td>#2016.8.27更新 在这里说明一下免得误导新人。印象笔记不适合做GTD，今天突然看到某...</td>\n",
       "      <td>21895626.0</td>\n",
       "      <td>1.970507e+07</td>\n",
       "      <td>https://www.zhihu.com/question/21895626/answer...</td>\n",
       "      <td>赞同 102</td>\n",
       "      <td>2013-10-29T08:15:29.000Z</td>\n",
       "    </tr>\n",
       "    <tr>\n",
       "      <th>1006216</th>\n",
       "      <td>我是一个素食主义者，看到肉就恶心，但我并没有阻止身边人吃肉，为什么他们还对我有那么大恶意?</td>\n",
       "      <td>虽然选择是自由的，但这种反常的现象你最好还是去看看医生</td>\n",
       "      <td>535935470.0</td>\n",
       "      <td>2.517643e+09</td>\n",
       "      <td>https://www.zhihu.com/question/535935470/answe...</td>\n",
       "      <td>赞同 310</td>\n",
       "      <td>2022-06-06T20:28:56.000Z</td>\n",
       "    </tr>\n",
       "    <tr>\n",
       "      <th>1006217</th>\n",
       "      <td>如果你是希腊民众，你会怎么做？你会支持政府的财政紧缩政策吗？</td>\n",
       "      <td>先澄清几个概念吧： 1、中国的财政供养人员和欧美系的文官（也就是公务员）概念是不一样的，而希...</td>\n",
       "      <td>19925156.0</td>\n",
       "      <td>3.859453e+07</td>\n",
       "      <td>https://www.zhihu.com/question/19925156/answer...</td>\n",
       "      <td>赞同 8</td>\n",
       "      <td>2015-02-01T03:44:12.000Z</td>\n",
       "    </tr>\n",
       "  </tbody>\n",
       "</table>\n",
       "<p>1006218 rows × 7 columns</p>\n",
       "</div>"
      ],
      "text/plain": [
       "                                              question  \\\n",
       "0                                          怎么说服男朋友买烤箱？   \n",
       "1                              航天从业者是如何看待电视剧《你是我的荣耀》的？   \n",
       "2                                    如何看待PayPal正式进入中国？   \n",
       "3                                  中金公司交易员月薪八万五是如何做到的？   \n",
       "4                                     摇滚乐（金属）给你们带来了什么？   \n",
       "...                                                ...   \n",
       "1006213                                    费列罗里到底有没有蛆？   \n",
       "1006214               如果让你来决定宝可梦的游戏（正统作或外传）内容，你会想做成怎样？   \n",
       "1006215                      怎么复制Excel表格到印象笔记Evernote?   \n",
       "1006216  我是一个素食主义者，看到肉就恶心，但我并没有阻止身边人吃肉，为什么他们还对我有那么大恶意?   \n",
       "1006217                 如果你是希腊民众，你会怎么做？你会支持政府的财政紧缩政策吗？   \n",
       "\n",
       "                                                    answer  question_id  \\\n",
       "0        emmmmm，首先想说的是，我买厨房用品一般是不用「说服」的，只是在厨房堆的满满当当的情况下...  357137111.0   \n",
       "1          难得有个关于航天的剧，职场情节悬不悬浮，航天设定和细节走不走心？带着放大镜看了前18集，...  475169837.0   \n",
       "2        PayPal不仅是美国支付巨头，也是国际支付巨头，目前已开拓全球200多个市场，美国以外的市...  348551037.0   \n",
       "3        1、首先，考虑到这位交易员的工作经验，月薪八万五的表述是不正确的：其实是一年的全部薪酬除以1...  545938899.0   \n",
       "4        ㄟ( ▔, ▔ )ㄏ哪里带来了什么东西啊，除了找到热爱的东西，也失去了很多。听重型现场像疯子...  361437216.0   \n",
       "...                                                    ...          ...   \n",
       "1006213  新鲜出炉的，别人送一盒半年了，一直放柜子没管。今天整理出来一看，盒子里面好几条肉乎乎的虫子。...   28449568.0   \n",
       "1006214          做成真女神转生-like 游戏模式为奇妙之旅那种drpg 剧情分成c、l、n三条线  317215832.0   \n",
       "1006215  #2016.8.27更新 在这里说明一下免得误导新人。印象笔记不适合做GTD，今天突然看到某...   21895626.0   \n",
       "1006216                        虽然选择是自由的，但这种反常的现象你最好还是去看看医生  535935470.0   \n",
       "1006217  先澄清几个概念吧： 1、中国的财政供养人员和欧美系的文官（也就是公务员）概念是不一样的，而希...   19925156.0   \n",
       "\n",
       "            answer_id                                                url  \\\n",
       "0        9.143328e+08  https://www.zhihu.com/question/357137111/answe...   \n",
       "1        2.053313e+09  https://www.zhihu.com/question/475169837/answe...   \n",
       "2        8.661034e+08  https://www.zhihu.com/question/348551037/answe...   \n",
       "3        2.602364e+09  https://www.zhihu.com/question/545938899/answe...   \n",
       "4        1.073541e+09  https://www.zhihu.com/question/361437216/answe...   \n",
       "...               ...                                                ...   \n",
       "1006213  8.800690e+08  https://www.zhihu.com/question/28449568/answer...   \n",
       "1006214  1.836233e+09  https://www.zhihu.com/question/317215832/answe...   \n",
       "1006215  1.970507e+07  https://www.zhihu.com/question/21895626/answer...   \n",
       "1006216  2.517643e+09  https://www.zhihu.com/question/535935470/answe...   \n",
       "1006217  3.859453e+07  https://www.zhihu.com/question/19925156/answer...   \n",
       "\n",
       "         upvotes      answer_creation_time  \n",
       "0          赞同 15  2019-11-28T12:01:22.000Z  \n",
       "1        赞同 4432  2021-08-11T07:26:08.000Z  \n",
       "2         赞同 127  2019-10-22T09:11:15.000Z  \n",
       "3         赞同 450  2022-07-31T13:29:04.000Z  \n",
       "4           赞同 5  2020-03-12T05:49:28.000Z  \n",
       "...          ...                       ...  \n",
       "1006213    赞同 36  2019-11-03T05:24:13.000Z  \n",
       "1006214       赞同  2021-04-15T03:30:59.000Z  \n",
       "1006215   赞同 102  2013-10-29T08:15:29.000Z  \n",
       "1006216   赞同 310  2022-06-06T20:28:56.000Z  \n",
       "1006217     赞同 8  2015-02-01T03:44:12.000Z  \n",
       "\n",
       "[1006218 rows x 7 columns]"
      ]
     },
     "execution_count": 23,
     "metadata": {},
     "output_type": "execute_result"
    }
   ],
   "source": [
    "df_train = pd.DataFrame(data_dict)\n",
    "df_train"
   ]
  },
  {
   "cell_type": "code",
   "execution_count": 24,
   "metadata": {},
   "outputs": [
    {
     "data": {
      "text/plain": [
       "159007"
      ]
     },
     "execution_count": 24,
     "metadata": {},
     "output_type": "execute_result"
    }
   ],
   "source": [
    "len(set(df_train['question_id']))"
   ]
  },
  {
   "cell_type": "code",
   "execution_count": 25,
   "metadata": {},
   "outputs": [
    {
     "data": {
      "text/plain": [
       "1006218"
      ]
     },
     "execution_count": 25,
     "metadata": {},
     "output_type": "execute_result"
    }
   ],
   "source": [
    "len(set(df_train['answer_id']))"
   ]
  },
  {
   "cell_type": "code",
   "execution_count": 33,
   "metadata": {
    "vscode": {
     "languageId": "groovy"
    }
   },
   "outputs": [
    {
     "data": {
      "text/html": [
       "<div>\n",
       "<style scoped>\n",
       "    .dataframe tbody tr th:only-of-type {\n",
       "        vertical-align: middle;\n",
       "    }\n",
       "\n",
       "    .dataframe tbody tr th {\n",
       "        vertical-align: top;\n",
       "    }\n",
       "\n",
       "    .dataframe thead th {\n",
       "        text-align: right;\n",
       "    }\n",
       "</style>\n",
       "<table border=\"1\" class=\"dataframe\">\n",
       "  <thead>\n",
       "    <tr style=\"text-align: right;\">\n",
       "      <th></th>\n",
       "      <th>question</th>\n",
       "      <th>answer</th>\n",
       "      <th>question_id</th>\n",
       "      <th>answer_id</th>\n",
       "      <th>url</th>\n",
       "      <th>upvotes</th>\n",
       "      <th>answer_creation_time</th>\n",
       "    </tr>\n",
       "  </thead>\n",
       "  <tbody>\n",
       "    <tr>\n",
       "      <th>0</th>\n",
       "      <td>怎么说服男朋友买烤箱？</td>\n",
       "      <td>emmmmm，首先想说的是，我买厨房用品一般是不用「说服」的，只是在厨房堆的满满当当的情况下...</td>\n",
       "      <td>357137111</td>\n",
       "      <td>914332816</td>\n",
       "      <td>https://www.zhihu.com/question/357137111/answe...</td>\n",
       "      <td>15</td>\n",
       "      <td>2019-11-28T12:01:22.000Z</td>\n",
       "    </tr>\n",
       "    <tr>\n",
       "      <th>1</th>\n",
       "      <td>航天从业者是如何看待电视剧《你是我的荣耀》的？</td>\n",
       "      <td>难得有个关于航天的剧，职场情节悬不悬浮，航天设定和细节走不走心？带着放大镜看了前18集，...</td>\n",
       "      <td>475169837</td>\n",
       "      <td>2053313113</td>\n",
       "      <td>https://www.zhihu.com/question/475169837/answe...</td>\n",
       "      <td>4432</td>\n",
       "      <td>2021-08-11T07:26:08.000Z</td>\n",
       "    </tr>\n",
       "    <tr>\n",
       "      <th>2</th>\n",
       "      <td>如何看待PayPal正式进入中国？</td>\n",
       "      <td>PayPal不仅是美国支付巨头，也是国际支付巨头，目前已开拓全球200多个市场，美国以外的市...</td>\n",
       "      <td>348551037</td>\n",
       "      <td>866103409</td>\n",
       "      <td>https://www.zhihu.com/question/348551037/answe...</td>\n",
       "      <td>127</td>\n",
       "      <td>2019-10-22T09:11:15.000Z</td>\n",
       "    </tr>\n",
       "    <tr>\n",
       "      <th>3</th>\n",
       "      <td>中金公司交易员月薪八万五是如何做到的？</td>\n",
       "      <td>1、首先，考虑到这位交易员的工作经验，月薪八万五的表述是不正确的：其实是一年的全部薪酬除以1...</td>\n",
       "      <td>545938899</td>\n",
       "      <td>2602363788</td>\n",
       "      <td>https://www.zhihu.com/question/545938899/answe...</td>\n",
       "      <td>450</td>\n",
       "      <td>2022-07-31T13:29:04.000Z</td>\n",
       "    </tr>\n",
       "    <tr>\n",
       "      <th>4</th>\n",
       "      <td>摇滚乐（金属）给你们带来了什么？</td>\n",
       "      <td>ㄟ( ▔, ▔ )ㄏ哪里带来了什么东西啊，除了找到热爱的东西，也失去了很多。听重型现场像疯子...</td>\n",
       "      <td>361437216</td>\n",
       "      <td>1073541478</td>\n",
       "      <td>https://www.zhihu.com/question/361437216/answe...</td>\n",
       "      <td>5</td>\n",
       "      <td>2020-03-12T05:49:28.000Z</td>\n",
       "    </tr>\n",
       "  </tbody>\n",
       "</table>\n",
       "</div>"
      ],
      "text/plain": [
       "                  question                                             answer  \\\n",
       "0              怎么说服男朋友买烤箱？  emmmmm，首先想说的是，我买厨房用品一般是不用「说服」的，只是在厨房堆的满满当当的情况下...   \n",
       "1  航天从业者是如何看待电视剧《你是我的荣耀》的？    难得有个关于航天的剧，职场情节悬不悬浮，航天设定和细节走不走心？带着放大镜看了前18集，...   \n",
       "2        如何看待PayPal正式进入中国？  PayPal不仅是美国支付巨头，也是国际支付巨头，目前已开拓全球200多个市场，美国以外的市...   \n",
       "3      中金公司交易员月薪八万五是如何做到的？  1、首先，考虑到这位交易员的工作经验，月薪八万五的表述是不正确的：其实是一年的全部薪酬除以1...   \n",
       "4         摇滚乐（金属）给你们带来了什么？  ㄟ( ▔, ▔ )ㄏ哪里带来了什么东西啊，除了找到热爱的东西，也失去了很多。听重型现场像疯子...   \n",
       "\n",
       "   question_id   answer_id                                                url  \\\n",
       "0    357137111   914332816  https://www.zhihu.com/question/357137111/answe...   \n",
       "1    475169837  2053313113  https://www.zhihu.com/question/475169837/answe...   \n",
       "2    348551037   866103409  https://www.zhihu.com/question/348551037/answe...   \n",
       "3    545938899  2602363788  https://www.zhihu.com/question/545938899/answe...   \n",
       "4    361437216  1073541478  https://www.zhihu.com/question/361437216/answe...   \n",
       "\n",
       "   upvotes      answer_creation_time  \n",
       "0       15  2019-11-28T12:01:22.000Z  \n",
       "1     4432  2021-08-11T07:26:08.000Z  \n",
       "2      127  2019-10-22T09:11:15.000Z  \n",
       "3      450  2022-07-31T13:29:04.000Z  \n",
       "4        5  2020-03-12T05:49:28.000Z  "
      ]
     },
     "execution_count": 33,
     "metadata": {},
     "output_type": "execute_result"
    }
   ],
   "source": [
    "def clean_upvotes(upvote_str):\n",
    "    upvote_str = upvote_str.replace('赞同', '').strip()\n",
    "    if len(upvote_str) > 0:\n",
    "        if \"万\" in upvote_str:\n",
    "            upvote_str = upvote_str.replace('万', '').strip()\n",
    "            return int(float(upvote_str) * 10000)\n",
    "        else:\n",
    "            return int(upvote_str)\n",
    "    else:\n",
    "        return 0\n",
    "\n",
    "\n",
    "df_train['upvotes'] = df_train['upvotes'].apply(clean_upvotes)\n",
    "df_train['answer_id'] = df_train['answer_id'].astype('int64')\n",
    "df_train['question_id'] = df_train['question_id'].astype('int64')\n",
    "df_train.head()"
   ]
  }
 ],
 "metadata": {
  "kernelspec": {
   "display_name": "advise_seeking",
   "language": "python",
   "name": "python3"
  },
  "language_info": {
   "codemirror_mode": {
    "name": "ipython",
    "version": 3
   },
   "file_extension": ".py",
   "mimetype": "text/x-python",
   "name": "python",
   "nbconvert_exporter": "python",
   "pygments_lexer": "ipython3",
   "version": "3.11.11"
  }
 },
 "nbformat": 4,
 "nbformat_minor": 2
}
