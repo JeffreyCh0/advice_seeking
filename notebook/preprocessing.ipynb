{
 "cells": [
  {
   "cell_type": "code",
   "execution_count": 1,
   "metadata": {},
   "outputs": [],
   "source": [
    "import json\n",
    "import pandas as pd"
   ]
  },
  {
   "cell_type": "markdown",
   "metadata": {},
   "source": [
    "# Download and preprocess dataset"
   ]
  },
  {
   "cell_type": "code",
   "execution_count": 2,
   "metadata": {},
   "outputs": [
    {
     "data": {
      "application/vnd.jupyter.widget-view+json": {
       "model_id": "0fe52177456142e496dd55ae8bc49b53",
       "version_major": 2,
       "version_minor": 0
      },
      "text/plain": [
       "README.md:   0%|          | 0.00/571 [00:00<?, ?B/s]"
      ]
     },
     "metadata": {},
     "output_type": "display_data"
    },
    {
     "data": {
      "application/vnd.jupyter.widget-view+json": {
       "model_id": "959fb72b5ae24537b33c236539425dca",
       "version_major": 2,
       "version_minor": 0
      },
      "text/plain": [
       "(…)-00000-of-00005-a1278ede4e8c5cdb.parquet:   0%|          | 0.00/306M [00:00<?, ?B/s]"
      ]
     },
     "metadata": {},
     "output_type": "display_data"
    },
    {
     "data": {
      "application/vnd.jupyter.widget-view+json": {
       "model_id": "0b2ff08879b240a5b8980455dd718363",
       "version_major": 2,
       "version_minor": 0
      },
      "text/plain": [
       "(…)-00001-of-00005-1fc2da944397e9c2.parquet:   0%|          | 0.00/303M [00:00<?, ?B/s]"
      ]
     },
     "metadata": {},
     "output_type": "display_data"
    },
    {
     "data": {
      "application/vnd.jupyter.widget-view+json": {
       "model_id": "12e0e443a72941c8a28abb17d0a759a2",
       "version_major": 2,
       "version_minor": 0
      },
      "text/plain": [
       "(…)-00002-of-00005-68ced004a1458143.parquet:   0%|          | 0.00/300M [00:00<?, ?B/s]"
      ]
     },
     "metadata": {},
     "output_type": "display_data"
    },
    {
     "data": {
      "application/vnd.jupyter.widget-view+json": {
       "model_id": "f15ffc58876041919329d08649cf2928",
       "version_major": 2,
       "version_minor": 0
      },
      "text/plain": [
       "(…)-00003-of-00005-1dae36b67c12169f.parquet:   0%|          | 0.00/292M [00:00<?, ?B/s]"
      ]
     },
     "metadata": {},
     "output_type": "display_data"
    },
    {
     "data": {
      "application/vnd.jupyter.widget-view+json": {
       "model_id": "b6dadc5dbfa242b4b63135037cfada95",
       "version_major": 2,
       "version_minor": 0
      },
      "text/plain": [
       "(…)-00004-of-00005-c374cc9fbda9fda7.parquet:   0%|          | 0.00/299M [00:00<?, ?B/s]"
      ]
     },
     "metadata": {},
     "output_type": "display_data"
    },
    {
     "data": {
      "application/vnd.jupyter.widget-view+json": {
       "model_id": "1277f445feee4f9e978baa535fcef62a",
       "version_major": 2,
       "version_minor": 0
      },
      "text/plain": [
       "Generating train split:   0%|          | 0/1006218 [00:00<?, ? examples/s]"
      ]
     },
     "metadata": {},
     "output_type": "display_data"
    }
   ],
   "source": [
    "from datasets import load_dataset\n",
    "\n",
    "ds = load_dataset(\"wangrui6/Zhihu-KOL\")"
   ]
  },
  {
   "cell_type": "code",
   "execution_count": 3,
   "metadata": {},
   "outputs": [],
   "source": [
    "data_dict = {}\n",
    "data_dict['question'] = ds['train']['INSTRUCTION']\n",
    "data_dict['answer'] = ds['train']['RESPONSE']\n",
    "for key in json.loads(ds['train']['METADATA'][0]).keys():\n",
    "    data_dict[key] = [json.loads(x)[key] for x in ds['train']['METADATA']]"
   ]
  },
  {
   "cell_type": "code",
   "execution_count": 4,
   "metadata": {},
   "outputs": [
    {
     "data": {
      "text/html": [
       "<div>\n",
       "<style scoped>\n",
       "    .dataframe tbody tr th:only-of-type {\n",
       "        vertical-align: middle;\n",
       "    }\n",
       "\n",
       "    .dataframe tbody tr th {\n",
       "        vertical-align: top;\n",
       "    }\n",
       "\n",
       "    .dataframe thead th {\n",
       "        text-align: right;\n",
       "    }\n",
       "</style>\n",
       "<table border=\"1\" class=\"dataframe\">\n",
       "  <thead>\n",
       "    <tr style=\"text-align: right;\">\n",
       "      <th></th>\n",
       "      <th>question</th>\n",
       "      <th>answer</th>\n",
       "      <th>question_id</th>\n",
       "      <th>answer_id</th>\n",
       "      <th>url</th>\n",
       "      <th>upvotes</th>\n",
       "      <th>answer_creation_time</th>\n",
       "    </tr>\n",
       "  </thead>\n",
       "  <tbody>\n",
       "    <tr>\n",
       "      <th>0</th>\n",
       "      <td>怎么说服男朋友买烤箱？</td>\n",
       "      <td>emmmmm，首先想说的是，我买厨房用品一般是不用「说服」的，只是在厨房堆的满满当当的情况下...</td>\n",
       "      <td>357137111.0</td>\n",
       "      <td>9.143328e+08</td>\n",
       "      <td>https://www.zhihu.com/question/357137111/answe...</td>\n",
       "      <td>赞同 15</td>\n",
       "      <td>2019-11-28T12:01:22.000Z</td>\n",
       "    </tr>\n",
       "    <tr>\n",
       "      <th>1</th>\n",
       "      <td>航天从业者是如何看待电视剧《你是我的荣耀》的？</td>\n",
       "      <td>难得有个关于航天的剧，职场情节悬不悬浮，航天设定和细节走不走心？带着放大镜看了前18集，...</td>\n",
       "      <td>475169837.0</td>\n",
       "      <td>2.053313e+09</td>\n",
       "      <td>https://www.zhihu.com/question/475169837/answe...</td>\n",
       "      <td>赞同 4432</td>\n",
       "      <td>2021-08-11T07:26:08.000Z</td>\n",
       "    </tr>\n",
       "    <tr>\n",
       "      <th>2</th>\n",
       "      <td>如何看待PayPal正式进入中国？</td>\n",
       "      <td>PayPal不仅是美国支付巨头，也是国际支付巨头，目前已开拓全球200多个市场，美国以外的市...</td>\n",
       "      <td>348551037.0</td>\n",
       "      <td>8.661034e+08</td>\n",
       "      <td>https://www.zhihu.com/question/348551037/answe...</td>\n",
       "      <td>赞同 127</td>\n",
       "      <td>2019-10-22T09:11:15.000Z</td>\n",
       "    </tr>\n",
       "    <tr>\n",
       "      <th>3</th>\n",
       "      <td>中金公司交易员月薪八万五是如何做到的？</td>\n",
       "      <td>1、首先，考虑到这位交易员的工作经验，月薪八万五的表述是不正确的：其实是一年的全部薪酬除以1...</td>\n",
       "      <td>545938899.0</td>\n",
       "      <td>2.602364e+09</td>\n",
       "      <td>https://www.zhihu.com/question/545938899/answe...</td>\n",
       "      <td>赞同 450</td>\n",
       "      <td>2022-07-31T13:29:04.000Z</td>\n",
       "    </tr>\n",
       "    <tr>\n",
       "      <th>4</th>\n",
       "      <td>摇滚乐（金属）给你们带来了什么？</td>\n",
       "      <td>ㄟ( ▔, ▔ )ㄏ哪里带来了什么东西啊，除了找到热爱的东西，也失去了很多。听重型现场像疯子...</td>\n",
       "      <td>361437216.0</td>\n",
       "      <td>1.073541e+09</td>\n",
       "      <td>https://www.zhihu.com/question/361437216/answe...</td>\n",
       "      <td>赞同 5</td>\n",
       "      <td>2020-03-12T05:49:28.000Z</td>\n",
       "    </tr>\n",
       "    <tr>\n",
       "      <th>...</th>\n",
       "      <td>...</td>\n",
       "      <td>...</td>\n",
       "      <td>...</td>\n",
       "      <td>...</td>\n",
       "      <td>...</td>\n",
       "      <td>...</td>\n",
       "      <td>...</td>\n",
       "    </tr>\n",
       "    <tr>\n",
       "      <th>1006213</th>\n",
       "      <td>费列罗里到底有没有蛆？</td>\n",
       "      <td>新鲜出炉的，别人送一盒半年了，一直放柜子没管。今天整理出来一看，盒子里面好几条肉乎乎的虫子。...</td>\n",
       "      <td>28449568.0</td>\n",
       "      <td>8.800690e+08</td>\n",
       "      <td>https://www.zhihu.com/question/28449568/answer...</td>\n",
       "      <td>赞同 36</td>\n",
       "      <td>2019-11-03T05:24:13.000Z</td>\n",
       "    </tr>\n",
       "    <tr>\n",
       "      <th>1006214</th>\n",
       "      <td>如果让你来决定宝可梦的游戏（正统作或外传）内容，你会想做成怎样？</td>\n",
       "      <td>做成真女神转生-like 游戏模式为奇妙之旅那种drpg 剧情分成c、l、n三条线</td>\n",
       "      <td>317215832.0</td>\n",
       "      <td>1.836233e+09</td>\n",
       "      <td>https://www.zhihu.com/question/317215832/answe...</td>\n",
       "      <td>赞同</td>\n",
       "      <td>2021-04-15T03:30:59.000Z</td>\n",
       "    </tr>\n",
       "    <tr>\n",
       "      <th>1006215</th>\n",
       "      <td>怎么复制Excel表格到印象笔记Evernote?</td>\n",
       "      <td>#2016.8.27更新 在这里说明一下免得误导新人。印象笔记不适合做GTD，今天突然看到某...</td>\n",
       "      <td>21895626.0</td>\n",
       "      <td>1.970507e+07</td>\n",
       "      <td>https://www.zhihu.com/question/21895626/answer...</td>\n",
       "      <td>赞同 102</td>\n",
       "      <td>2013-10-29T08:15:29.000Z</td>\n",
       "    </tr>\n",
       "    <tr>\n",
       "      <th>1006216</th>\n",
       "      <td>我是一个素食主义者，看到肉就恶心，但我并没有阻止身边人吃肉，为什么他们还对我有那么大恶意?</td>\n",
       "      <td>虽然选择是自由的，但这种反常的现象你最好还是去看看医生</td>\n",
       "      <td>535935470.0</td>\n",
       "      <td>2.517643e+09</td>\n",
       "      <td>https://www.zhihu.com/question/535935470/answe...</td>\n",
       "      <td>赞同 310</td>\n",
       "      <td>2022-06-06T20:28:56.000Z</td>\n",
       "    </tr>\n",
       "    <tr>\n",
       "      <th>1006217</th>\n",
       "      <td>如果你是希腊民众，你会怎么做？你会支持政府的财政紧缩政策吗？</td>\n",
       "      <td>先澄清几个概念吧： 1、中国的财政供养人员和欧美系的文官（也就是公务员）概念是不一样的，而希...</td>\n",
       "      <td>19925156.0</td>\n",
       "      <td>3.859453e+07</td>\n",
       "      <td>https://www.zhihu.com/question/19925156/answer...</td>\n",
       "      <td>赞同 8</td>\n",
       "      <td>2015-02-01T03:44:12.000Z</td>\n",
       "    </tr>\n",
       "  </tbody>\n",
       "</table>\n",
       "<p>1006218 rows × 7 columns</p>\n",
       "</div>"
      ],
      "text/plain": [
       "                                              question  \\\n",
       "0                                          怎么说服男朋友买烤箱？   \n",
       "1                              航天从业者是如何看待电视剧《你是我的荣耀》的？   \n",
       "2                                    如何看待PayPal正式进入中国？   \n",
       "3                                  中金公司交易员月薪八万五是如何做到的？   \n",
       "4                                     摇滚乐（金属）给你们带来了什么？   \n",
       "...                                                ...   \n",
       "1006213                                    费列罗里到底有没有蛆？   \n",
       "1006214               如果让你来决定宝可梦的游戏（正统作或外传）内容，你会想做成怎样？   \n",
       "1006215                      怎么复制Excel表格到印象笔记Evernote?   \n",
       "1006216  我是一个素食主义者，看到肉就恶心，但我并没有阻止身边人吃肉，为什么他们还对我有那么大恶意?   \n",
       "1006217                 如果你是希腊民众，你会怎么做？你会支持政府的财政紧缩政策吗？   \n",
       "\n",
       "                                                    answer  question_id  \\\n",
       "0        emmmmm，首先想说的是，我买厨房用品一般是不用「说服」的，只是在厨房堆的满满当当的情况下...  357137111.0   \n",
       "1          难得有个关于航天的剧，职场情节悬不悬浮，航天设定和细节走不走心？带着放大镜看了前18集，...  475169837.0   \n",
       "2        PayPal不仅是美国支付巨头，也是国际支付巨头，目前已开拓全球200多个市场，美国以外的市...  348551037.0   \n",
       "3        1、首先，考虑到这位交易员的工作经验，月薪八万五的表述是不正确的：其实是一年的全部薪酬除以1...  545938899.0   \n",
       "4        ㄟ( ▔, ▔ )ㄏ哪里带来了什么东西啊，除了找到热爱的东西，也失去了很多。听重型现场像疯子...  361437216.0   \n",
       "...                                                    ...          ...   \n",
       "1006213  新鲜出炉的，别人送一盒半年了，一直放柜子没管。今天整理出来一看，盒子里面好几条肉乎乎的虫子。...   28449568.0   \n",
       "1006214          做成真女神转生-like 游戏模式为奇妙之旅那种drpg 剧情分成c、l、n三条线  317215832.0   \n",
       "1006215  #2016.8.27更新 在这里说明一下免得误导新人。印象笔记不适合做GTD，今天突然看到某...   21895626.0   \n",
       "1006216                        虽然选择是自由的，但这种反常的现象你最好还是去看看医生  535935470.0   \n",
       "1006217  先澄清几个概念吧： 1、中国的财政供养人员和欧美系的文官（也就是公务员）概念是不一样的，而希...   19925156.0   \n",
       "\n",
       "            answer_id                                                url  \\\n",
       "0        9.143328e+08  https://www.zhihu.com/question/357137111/answe...   \n",
       "1        2.053313e+09  https://www.zhihu.com/question/475169837/answe...   \n",
       "2        8.661034e+08  https://www.zhihu.com/question/348551037/answe...   \n",
       "3        2.602364e+09  https://www.zhihu.com/question/545938899/answe...   \n",
       "4        1.073541e+09  https://www.zhihu.com/question/361437216/answe...   \n",
       "...               ...                                                ...   \n",
       "1006213  8.800690e+08  https://www.zhihu.com/question/28449568/answer...   \n",
       "1006214  1.836233e+09  https://www.zhihu.com/question/317215832/answe...   \n",
       "1006215  1.970507e+07  https://www.zhihu.com/question/21895626/answer...   \n",
       "1006216  2.517643e+09  https://www.zhihu.com/question/535935470/answe...   \n",
       "1006217  3.859453e+07  https://www.zhihu.com/question/19925156/answer...   \n",
       "\n",
       "         upvotes      answer_creation_time  \n",
       "0          赞同 15  2019-11-28T12:01:22.000Z  \n",
       "1        赞同 4432  2021-08-11T07:26:08.000Z  \n",
       "2         赞同 127  2019-10-22T09:11:15.000Z  \n",
       "3         赞同 450  2022-07-31T13:29:04.000Z  \n",
       "4           赞同 5  2020-03-12T05:49:28.000Z  \n",
       "...          ...                       ...  \n",
       "1006213    赞同 36  2019-11-03T05:24:13.000Z  \n",
       "1006214       赞同  2021-04-15T03:30:59.000Z  \n",
       "1006215   赞同 102  2013-10-29T08:15:29.000Z  \n",
       "1006216   赞同 310  2022-06-06T20:28:56.000Z  \n",
       "1006217     赞同 8  2015-02-01T03:44:12.000Z  \n",
       "\n",
       "[1006218 rows x 7 columns]"
      ]
     },
     "execution_count": 4,
     "metadata": {},
     "output_type": "execute_result"
    }
   ],
   "source": [
    "df_train = pd.DataFrame(data_dict)\n",
    "df_train"
   ]
  },
  {
   "cell_type": "code",
   "execution_count": 5,
   "metadata": {},
   "outputs": [
    {
     "data": {
      "text/plain": [
       "159007"
      ]
     },
     "execution_count": 5,
     "metadata": {},
     "output_type": "execute_result"
    }
   ],
   "source": [
    "len(set(df_train['question_id']))"
   ]
  },
  {
   "cell_type": "code",
   "execution_count": 6,
   "metadata": {},
   "outputs": [
    {
     "data": {
      "text/plain": [
       "1006218"
      ]
     },
     "execution_count": 6,
     "metadata": {},
     "output_type": "execute_result"
    }
   ],
   "source": [
    "len(set(df_train['answer_id']))"
   ]
  },
  {
   "cell_type": "code",
   "execution_count": null,
   "metadata": {},
   "outputs": [
    {
     "data": {
      "text/html": [
       "<div>\n",
       "<style scoped>\n",
       "    .dataframe tbody tr th:only-of-type {\n",
       "        vertical-align: middle;\n",
       "    }\n",
       "\n",
       "    .dataframe tbody tr th {\n",
       "        vertical-align: top;\n",
       "    }\n",
       "\n",
       "    .dataframe thead th {\n",
       "        text-align: right;\n",
       "    }\n",
       "</style>\n",
       "<table border=\"1\" class=\"dataframe\">\n",
       "  <thead>\n",
       "    <tr style=\"text-align: right;\">\n",
       "      <th></th>\n",
       "      <th>question</th>\n",
       "      <th>answer</th>\n",
       "      <th>question_id</th>\n",
       "      <th>answer_id</th>\n",
       "      <th>url</th>\n",
       "      <th>upvotes</th>\n",
       "      <th>answer_creation_time</th>\n",
       "    </tr>\n",
       "  </thead>\n",
       "  <tbody>\n",
       "    <tr>\n",
       "      <th>0</th>\n",
       "      <td>怎么说服男朋友买烤箱？</td>\n",
       "      <td>emmmmm，首先想说的是，我买厨房用品一般是不用「说服」的，只是在厨房堆的满满当当的情况下...</td>\n",
       "      <td>357137111</td>\n",
       "      <td>914332816</td>\n",
       "      <td>https://www.zhihu.com/question/357137111/answe...</td>\n",
       "      <td>15</td>\n",
       "      <td>2019-11-28T12:01:22.000Z</td>\n",
       "    </tr>\n",
       "    <tr>\n",
       "      <th>1</th>\n",
       "      <td>航天从业者是如何看待电视剧《你是我的荣耀》的？</td>\n",
       "      <td>难得有个关于航天的剧，职场情节悬不悬浮，航天设定和细节走不走心？带着放大镜看了前18集，...</td>\n",
       "      <td>475169837</td>\n",
       "      <td>2053313113</td>\n",
       "      <td>https://www.zhihu.com/question/475169837/answe...</td>\n",
       "      <td>4432</td>\n",
       "      <td>2021-08-11T07:26:08.000Z</td>\n",
       "    </tr>\n",
       "    <tr>\n",
       "      <th>2</th>\n",
       "      <td>如何看待PayPal正式进入中国？</td>\n",
       "      <td>PayPal不仅是美国支付巨头，也是国际支付巨头，目前已开拓全球200多个市场，美国以外的市...</td>\n",
       "      <td>348551037</td>\n",
       "      <td>866103409</td>\n",
       "      <td>https://www.zhihu.com/question/348551037/answe...</td>\n",
       "      <td>127</td>\n",
       "      <td>2019-10-22T09:11:15.000Z</td>\n",
       "    </tr>\n",
       "    <tr>\n",
       "      <th>3</th>\n",
       "      <td>中金公司交易员月薪八万五是如何做到的？</td>\n",
       "      <td>1、首先，考虑到这位交易员的工作经验，月薪八万五的表述是不正确的：其实是一年的全部薪酬除以1...</td>\n",
       "      <td>545938899</td>\n",
       "      <td>2602363788</td>\n",
       "      <td>https://www.zhihu.com/question/545938899/answe...</td>\n",
       "      <td>450</td>\n",
       "      <td>2022-07-31T13:29:04.000Z</td>\n",
       "    </tr>\n",
       "    <tr>\n",
       "      <th>4</th>\n",
       "      <td>摇滚乐（金属）给你们带来了什么？</td>\n",
       "      <td>ㄟ( ▔, ▔ )ㄏ哪里带来了什么东西啊，除了找到热爱的东西，也失去了很多。听重型现场像疯子...</td>\n",
       "      <td>361437216</td>\n",
       "      <td>1073541478</td>\n",
       "      <td>https://www.zhihu.com/question/361437216/answe...</td>\n",
       "      <td>5</td>\n",
       "      <td>2020-03-12T05:49:28.000Z</td>\n",
       "    </tr>\n",
       "  </tbody>\n",
       "</table>\n",
       "</div>"
      ],
      "text/plain": [
       "                  question                                             answer  \\\n",
       "0              怎么说服男朋友买烤箱？  emmmmm，首先想说的是，我买厨房用品一般是不用「说服」的，只是在厨房堆的满满当当的情况下...   \n",
       "1  航天从业者是如何看待电视剧《你是我的荣耀》的？    难得有个关于航天的剧，职场情节悬不悬浮，航天设定和细节走不走心？带着放大镜看了前18集，...   \n",
       "2        如何看待PayPal正式进入中国？  PayPal不仅是美国支付巨头，也是国际支付巨头，目前已开拓全球200多个市场，美国以外的市...   \n",
       "3      中金公司交易员月薪八万五是如何做到的？  1、首先，考虑到这位交易员的工作经验，月薪八万五的表述是不正确的：其实是一年的全部薪酬除以1...   \n",
       "4         摇滚乐（金属）给你们带来了什么？  ㄟ( ▔, ▔ )ㄏ哪里带来了什么东西啊，除了找到热爱的东西，也失去了很多。听重型现场像疯子...   \n",
       "\n",
       "   question_id   answer_id                                                url  \\\n",
       "0    357137111   914332816  https://www.zhihu.com/question/357137111/answe...   \n",
       "1    475169837  2053313113  https://www.zhihu.com/question/475169837/answe...   \n",
       "2    348551037   866103409  https://www.zhihu.com/question/348551037/answe...   \n",
       "3    545938899  2602363788  https://www.zhihu.com/question/545938899/answe...   \n",
       "4    361437216  1073541478  https://www.zhihu.com/question/361437216/answe...   \n",
       "\n",
       "   upvotes      answer_creation_time  \n",
       "0       15  2019-11-28T12:01:22.000Z  \n",
       "1     4432  2021-08-11T07:26:08.000Z  \n",
       "2      127  2019-10-22T09:11:15.000Z  \n",
       "3      450  2022-07-31T13:29:04.000Z  \n",
       "4        5  2020-03-12T05:49:28.000Z  "
      ]
     },
     "execution_count": 7,
     "metadata": {},
     "output_type": "execute_result"
    }
   ],
   "source": [
    "def clean_upvotes(upvote_str):\n",
    "    upvote_str = upvote_str.replace('赞同', '').strip()\n",
    "    if len(upvote_str) > 0:\n",
    "        if \"万\" in upvote_str:\n",
    "            upvote_str = upvote_str.replace('万', '').strip()\n",
    "            return int(float(upvote_str) * 10000)\n",
    "        else:\n",
    "            return int(upvote_str)\n",
    "    else:\n",
    "        return 0\n",
    "\n",
    "\n",
    "df_train['upvotes'] = df_train['upvotes'].apply(clean_upvotes)\n",
    "df_train['answer_id'] = df_train['answer_id'].astype('int64')\n",
    "df_train['question_id'] = df_train['question_id'].astype('int64')\n",
    "\n",
    "df_train = df_train[df_train['url'].notna()] # use only url is not NaN\n",
    "df_train.head()"
   ]
  },
  {
   "cell_type": "code",
   "execution_count": 11,
   "metadata": {},
   "outputs": [],
   "source": [
    "df_train_sorted = df_train.sort_values(by='upvotes', ascending=False).head(10000)\n",
    "df_train_sorted.to_csv('../data/zhihu_kol_10k.csv', index=False)"
   ]
  },
  {
   "cell_type": "markdown",
   "metadata": {},
   "source": [
    "# Scrap question body"
   ]
  },
  {
   "cell_type": "code",
   "execution_count": 12,
   "metadata": {},
   "outputs": [],
   "source": [
    "df_train_sorted = pd.read_csv('../data/zhihu_kol_10k.csv')"
   ]
  },
  {
   "cell_type": "code",
   "execution_count": 13,
   "metadata": {},
   "outputs": [
    {
     "data": {
      "text/html": [
       "<div>\n",
       "<style scoped>\n",
       "    .dataframe tbody tr th:only-of-type {\n",
       "        vertical-align: middle;\n",
       "    }\n",
       "\n",
       "    .dataframe tbody tr th {\n",
       "        vertical-align: top;\n",
       "    }\n",
       "\n",
       "    .dataframe thead th {\n",
       "        text-align: right;\n",
       "    }\n",
       "</style>\n",
       "<table border=\"1\" class=\"dataframe\">\n",
       "  <thead>\n",
       "    <tr style=\"text-align: right;\">\n",
       "      <th></th>\n",
       "      <th>question</th>\n",
       "      <th>answer</th>\n",
       "      <th>question_id</th>\n",
       "      <th>answer_id</th>\n",
       "      <th>url</th>\n",
       "      <th>upvotes</th>\n",
       "      <th>answer_creation_time</th>\n",
       "    </tr>\n",
       "  </thead>\n",
       "  <tbody>\n",
       "    <tr>\n",
       "      <th>0</th>\n",
       "      <td>长得太美是一种什么样的感觉？</td>\n",
       "      <td>我的亲妹妹，无论到哪儿都有人夸她好看，走在大街上都会被人要微信！！！ 去海南玩的时候随手拍了...</td>\n",
       "      <td>430297692</td>\n",
       "      <td>1715042961</td>\n",
       "      <td>https://www.zhihu.com/question/430297692/answe...</td>\n",
       "      <td>634000</td>\n",
       "      <td>2021-02-04T09:17:34.000Z</td>\n",
       "    </tr>\n",
       "    <tr>\n",
       "      <th>1</th>\n",
       "      <td>语文考试可以写负能量作文吗？</td>\n",
       "      <td>我真的是服你们这群崽子。 一个个的都是契科夫转世、莫泊桑临凡、欧亨利还魂，茨威格夺舍…… 你...</td>\n",
       "      <td>272068457</td>\n",
       "      <td>1302565494</td>\n",
       "      <td>https://www.zhihu.com/question/272068457/answe...</td>\n",
       "      <td>434000</td>\n",
       "      <td>2020-06-25T15:25:45.000Z</td>\n",
       "    </tr>\n",
       "    <tr>\n",
       "      <th>2</th>\n",
       "      <td>怎么在一个月内让英语听力有明显的提高？</td>\n",
       "      <td>相信我，看完这篇文章，一个月后你的英语听力水平将会超出你的想象。本篇也是知乎 2018、20...</td>\n",
       "      <td>24706380</td>\n",
       "      <td>387403508</td>\n",
       "      <td>https://www.zhihu.com/question/24706380/answer...</td>\n",
       "      <td>424000</td>\n",
       "      <td>2018-05-09T09:42:29.000Z</td>\n",
       "    </tr>\n",
       "    <tr>\n",
       "      <th>3</th>\n",
       "      <td>有哪些知识，你知道后你的世界马上就不一样了？</td>\n",
       "      <td>1.原则上可以，就是不可以；原则上不可以，就是可以！ 2.养成吃晚饭就洗碗的习惯，不要泡在水...</td>\n",
       "      <td>38632401</td>\n",
       "      <td>1060250796</td>\n",
       "      <td>https://www.zhihu.com/question/38632401/answer...</td>\n",
       "      <td>399000</td>\n",
       "      <td>2020-03-06T08:44:01.000Z</td>\n",
       "    </tr>\n",
       "    <tr>\n",
       "      <th>4</th>\n",
       "      <td>如何看透人的心理？</td>\n",
       "      <td>1、朋友圈经常晒自己自拍照的单身女生不能追。   2、“A+姓名+手机号”这种微信名，大多都...</td>\n",
       "      <td>365128026</td>\n",
       "      <td>1426528244</td>\n",
       "      <td>https://www.zhihu.com/question/365128026/answe...</td>\n",
       "      <td>363000</td>\n",
       "      <td>2020-08-22T10:32:08.000Z</td>\n",
       "    </tr>\n",
       "    <tr>\n",
       "      <th>5</th>\n",
       "      <td>有什么相见恨晚的背单词方法？</td>\n",
       "      <td>谢邀，单词，看这一篇就够了。全文手码5000字，被收藏750000次了，谢谢大家的支持。 我...</td>\n",
       "      <td>48040579</td>\n",
       "      <td>264770860</td>\n",
       "      <td>https://www.zhihu.com/question/48040579/answer...</td>\n",
       "      <td>291000</td>\n",
       "      <td>2017-11-24T01:03:59.000Z</td>\n",
       "    </tr>\n",
       "    <tr>\n",
       "      <th>6</th>\n",
       "      <td>你手机里最舍不得删的那张照片有什么故事?</td>\n",
       "      <td>这张纸条是我妻子写的。   写下的前24小时:由于已经晚于预产期一周，医生给用我妻子上了催产...</td>\n",
       "      <td>269575911</td>\n",
       "      <td>372282921</td>\n",
       "      <td>https://www.zhihu.com/question/269575911/answe...</td>\n",
       "      <td>273000</td>\n",
       "      <td>2018-04-21T03:41:38.000Z</td>\n",
       "    </tr>\n",
       "    <tr>\n",
       "      <th>7</th>\n",
       "      <td>人类有没有可能是被设计出来的？</td>\n",
       "      <td>如果是真的，那我一定要找到那个造物主，先把他按在地上一顿爆锤，然后厉声质问他：为什么要在我身...</td>\n",
       "      <td>298688205</td>\n",
       "      <td>528647866</td>\n",
       "      <td>https://www.zhihu.com/question/298688205/answe...</td>\n",
       "      <td>264000</td>\n",
       "      <td>2018-11-10T02:55:33.000Z</td>\n",
       "    </tr>\n",
       "    <tr>\n",
       "      <th>8</th>\n",
       "      <td>学霸的作息是怎样的，为什么都不会困？</td>\n",
       "      <td>北大15级的来答一发。 学霸不会困，靠的不是体力，是自我管理。 一天分成三个阶段，规律作息，...</td>\n",
       "      <td>267346432</td>\n",
       "      <td>426452693</td>\n",
       "      <td>https://www.zhihu.com/question/267346432/answe...</td>\n",
       "      <td>260000</td>\n",
       "      <td>2018-06-25T16:00:08.000Z</td>\n",
       "    </tr>\n",
       "    <tr>\n",
       "      <th>9</th>\n",
       "      <td>有哪些读书学不来，却很重要的素质？</td>\n",
       "      <td>（本文所有文字皆为原创，除注明引用外未参考任何文献，谢绝转载，） 书上找不到，也很少有人讨论...</td>\n",
       "      <td>28626263</td>\n",
       "      <td>41992632</td>\n",
       "      <td>https://www.zhihu.com/question/28626263/answer...</td>\n",
       "      <td>259000</td>\n",
       "      <td>2015-03-14T10:48:43.000Z</td>\n",
       "    </tr>\n",
       "  </tbody>\n",
       "</table>\n",
       "</div>"
      ],
      "text/plain": [
       "                 question                                             answer  \\\n",
       "0          长得太美是一种什么样的感觉？  我的亲妹妹，无论到哪儿都有人夸她好看，走在大街上都会被人要微信！！！ 去海南玩的时候随手拍了...   \n",
       "1          语文考试可以写负能量作文吗？  我真的是服你们这群崽子。 一个个的都是契科夫转世、莫泊桑临凡、欧亨利还魂，茨威格夺舍…… 你...   \n",
       "2     怎么在一个月内让英语听力有明显的提高？  相信我，看完这篇文章，一个月后你的英语听力水平将会超出你的想象。本篇也是知乎 2018、20...   \n",
       "3  有哪些知识，你知道后你的世界马上就不一样了？  1.原则上可以，就是不可以；原则上不可以，就是可以！ 2.养成吃晚饭就洗碗的习惯，不要泡在水...   \n",
       "4               如何看透人的心理？  1、朋友圈经常晒自己自拍照的单身女生不能追。   2、“A+姓名+手机号”这种微信名，大多都...   \n",
       "5          有什么相见恨晚的背单词方法？  谢邀，单词，看这一篇就够了。全文手码5000字，被收藏750000次了，谢谢大家的支持。 我...   \n",
       "6    你手机里最舍不得删的那张照片有什么故事?  这张纸条是我妻子写的。   写下的前24小时:由于已经晚于预产期一周，医生给用我妻子上了催产...   \n",
       "7         人类有没有可能是被设计出来的？  如果是真的，那我一定要找到那个造物主，先把他按在地上一顿爆锤，然后厉声质问他：为什么要在我身...   \n",
       "8      学霸的作息是怎样的，为什么都不会困？  北大15级的来答一发。 学霸不会困，靠的不是体力，是自我管理。 一天分成三个阶段，规律作息，...   \n",
       "9       有哪些读书学不来，却很重要的素质？  （本文所有文字皆为原创，除注明引用外未参考任何文献，谢绝转载，） 书上找不到，也很少有人讨论...   \n",
       "\n",
       "   question_id   answer_id                                                url  \\\n",
       "0    430297692  1715042961  https://www.zhihu.com/question/430297692/answe...   \n",
       "1    272068457  1302565494  https://www.zhihu.com/question/272068457/answe...   \n",
       "2     24706380   387403508  https://www.zhihu.com/question/24706380/answer...   \n",
       "3     38632401  1060250796  https://www.zhihu.com/question/38632401/answer...   \n",
       "4    365128026  1426528244  https://www.zhihu.com/question/365128026/answe...   \n",
       "5     48040579   264770860  https://www.zhihu.com/question/48040579/answer...   \n",
       "6    269575911   372282921  https://www.zhihu.com/question/269575911/answe...   \n",
       "7    298688205   528647866  https://www.zhihu.com/question/298688205/answe...   \n",
       "8    267346432   426452693  https://www.zhihu.com/question/267346432/answe...   \n",
       "9     28626263    41992632  https://www.zhihu.com/question/28626263/answer...   \n",
       "\n",
       "   upvotes      answer_creation_time  \n",
       "0   634000  2021-02-04T09:17:34.000Z  \n",
       "1   434000  2020-06-25T15:25:45.000Z  \n",
       "2   424000  2018-05-09T09:42:29.000Z  \n",
       "3   399000  2020-03-06T08:44:01.000Z  \n",
       "4   363000  2020-08-22T10:32:08.000Z  \n",
       "5   291000  2017-11-24T01:03:59.000Z  \n",
       "6   273000  2018-04-21T03:41:38.000Z  \n",
       "7   264000  2018-11-10T02:55:33.000Z  \n",
       "8   260000  2018-06-25T16:00:08.000Z  \n",
       "9   259000  2015-03-14T10:48:43.000Z  "
      ]
     },
     "execution_count": 13,
     "metadata": {},
     "output_type": "execute_result"
    }
   ],
   "source": [
    "df_train_sorted.head(10)"
   ]
  },
  {
   "cell_type": "code",
   "execution_count": 32,
   "metadata": {},
   "outputs": [],
   "source": [
    "from selenium import webdriver\n",
    "from selenium.webdriver.common.by import By\n",
    "from selenium.webdriver.chrome.service import Service\n",
    "from selenium.webdriver.chrome.options import Options\n",
    "import pandas as pd\n",
    "import time\n",
    "\n",
    "# Initialize Selenium WebDriver\n",
    "def initialize_driver():\n",
    "    chrome_options = Options()\n",
    "    chrome_options.add_argument(\"--headless\")  # Run in headless mode\n",
    "    chrome_options.add_argument(\"--disable-gpu\")\n",
    "    chrome_options.add_argument(\"--no-sandbox\")\n",
    "    \n",
    "    service = Service(r\"C:\\Users\\JeffreyCh0\\Downloads\\chromedriver-win64\\chromedriver-win64\\chromedriver.exe\")  # Replace with the path to your ChromeDriver\n",
    "    driver = webdriver.Chrome(service=service, options=chrome_options)\n",
    "    return driver\n",
    "\n",
    "# Scrape body content from URL\n",
    "def scrape_body(driver, url):\n",
    "    try:\n",
    "        driver.get(url)\n",
    "        time.sleep(2)  # Wait for the page to load (adjust as needed)\n",
    "        \n",
    "        # Modify the following line to target the specific part of the page you want to scrape\n",
    "        body = driver.find_element(By.TAG_NAME, \"body\").text\n",
    "        return body\n",
    "    except Exception as e:\n",
    "        print(f\"Error scraping {url}: {e}\")\n",
    "        return None\n",
    "\n",
    "# Main scraping function\n",
    "def add_body_column(df):\n",
    "    driver = initialize_driver()\n",
    "    bodies = []\n",
    "    for url in df['url']:\n",
    "        print(f\"Scraping: {url}\")\n",
    "        body = scrape_body(driver, url)\n",
    "        bodies.append(body)\n",
    "    driver.quit()\n",
    "    df['body'] = bodies\n",
    "    return df"
   ]
  },
  {
   "cell_type": "code",
   "execution_count": 35,
   "metadata": {},
   "outputs": [
    {
     "data": {
      "text/plain": [
       "'https://www.zhihu.com/question/430297692/answer/1715042961'"
      ]
     },
     "execution_count": 35,
     "metadata": {},
     "output_type": "execute_result"
    }
   ],
   "source": [
    "df_temp['url'][0]"
   ]
  },
  {
   "cell_type": "code",
   "execution_count": 37,
   "metadata": {},
   "outputs": [
    {
     "name": "stdout",
     "output_type": "stream",
     "text": [
      "Scraping: https://www.zhihu.com/question/430297692/answer/1715042961\n",
      "Scraping: https://www.zhihu.com/question/272068457/answer/1302565494\n",
      "Scraping: https://www.zhihu.com/question/24706380/answer/387403508\n"
     ]
    },
    {
     "name": "stderr",
     "output_type": "stream",
     "text": [
      "<ipython-input-32-60e7449e53fd>:41: SettingWithCopyWarning: \n",
      "A value is trying to be set on a copy of a slice from a DataFrame.\n",
      "Try using .loc[row_indexer,col_indexer] = value instead\n",
      "\n",
      "See the caveats in the documentation: https://pandas.pydata.org/pandas-docs/stable/user_guide/indexing.html#returning-a-view-versus-a-copy\n",
      "  df['body'] = bodies\n"
     ]
    },
    {
     "data": {
      "text/plain": [
       "'进入知乎\\n系统监测到您的网络环境存在异常，为保证您的正常访问，请点击下方验证按钮进行验证。在您验证完成前，该提示将多次出现。\\n开始验证\\n登录知乎\\n·\\n意见反馈'"
      ]
     },
     "execution_count": 37,
     "metadata": {},
     "output_type": "execute_result"
    }
   ],
   "source": [
    "# Example DataFrame\n",
    "\n",
    "# Add 'body' column\n",
    "df_temp = add_body_column(df_temp)\n",
    "\n",
    "df_temp['body'][0]\n"
   ]
  },
  {
   "cell_type": "code",
   "execution_count": null,
   "metadata": {},
   "outputs": [],
   "source": []
  }
 ],
 "metadata": {
  "kernelspec": {
   "display_name": "base",
   "language": "python",
   "name": "python3"
  },
  "language_info": {
   "codemirror_mode": {
    "name": "ipython",
    "version": 3
   },
   "file_extension": ".py",
   "mimetype": "text/x-python",
   "name": "python",
   "nbconvert_exporter": "python",
   "pygments_lexer": "ipython3",
   "version": "3.8.8"
  }
 },
 "nbformat": 4,
 "nbformat_minor": 2
}
